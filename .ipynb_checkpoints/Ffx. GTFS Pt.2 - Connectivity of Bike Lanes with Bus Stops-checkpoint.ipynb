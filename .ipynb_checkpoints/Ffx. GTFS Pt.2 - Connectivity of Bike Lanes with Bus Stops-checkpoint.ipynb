{
 "cells": [
  {
   "cell_type": "markdown",
   "id": "9b09b188",
   "metadata": {},
   "source": [
    "# Analysis 3 - Connectivity of Stops with Bike Lanes"
   ]
  },
  {
   "cell_type": "code",
   "execution_count": 7,
   "id": "2fb87f1a",
   "metadata": {},
   "outputs": [],
   "source": [
    "import pyproj"
   ]
  },
  {
   "cell_type": "code",
   "execution_count": 9,
   "id": "f07a660d",
   "metadata": {},
   "outputs": [],
   "source": [
    "import pandas as pd\n",
    "import numpy as np\n",
    "import matplotlib.pyplot as plt\n",
    "import seaborn as sns\n",
    "import geopandas as gpd\n",
    "import glob\n",
    "import re"
   ]
  },
  {
   "cell_type": "code",
   "execution_count": 10,
   "id": "0f1eb0f2",
   "metadata": {},
   "outputs": [],
   "source": [
    "agency = pd.read_csv(r'C:\\Users\\hameed\\Desktop\\Datasets\\GTFS Analysis\\ffx_GTFS\\connector_gtfs\\agency.txt')\n",
    "calendar = pd.read_csv(r'C:\\Users\\hameed\\Desktop\\Datasets\\GTFS Analysis\\ffx_GTFS\\connector_gtfs\\calendar.txt')\n",
    "calendar_dates = pd.read_csv(r'C:\\Users\\hameed\\Desktop\\Datasets\\GTFS Analysis\\ffx_GTFS\\connector_gtfs\\calendar_dates.txt')\n",
    "fare_attributes = pd.read_csv(r'C:\\Users\\hameed\\Desktop\\Datasets\\GTFS Analysis\\ffx_GTFS\\connector_gtfs\\fare_attributes.txt')\n",
    "frequencies = pd.read_csv(r'C:\\Users\\hameed\\Desktop\\Datasets\\GTFS Analysis\\ffx_GTFS\\connector_gtfs\\frequencies.txt')\n",
    "routes = pd.read_csv(r'C:\\Users\\hameed\\Desktop\\Datasets\\GTFS Analysis\\ffx_GTFS\\connector_gtfs\\routes.txt')\n",
    "shapes = pd.read_csv(r'C:\\Users\\hameed\\Desktop\\Datasets\\GTFS Analysis\\ffx_GTFS\\connector_gtfs\\shapes.txt')\n",
    "stop_times = pd.read_csv(r'C:\\Users\\hameed\\Desktop\\Datasets\\GTFS Analysis\\ffx_GTFS\\connector_gtfs\\stop_times.txt')\n",
    "stops = pd.read_csv(r'C:\\Users\\hameed\\Desktop\\Datasets\\GTFS Analysis\\ffx_GTFS\\connector_gtfs\\stops.txt')\n",
    "timepoint_times = pd.read_csv(r'C:\\Users\\hameed\\Desktop\\Datasets\\GTFS Analysis\\ffx_GTFS\\connector_gtfs\\timepoint_times.txt')\n",
    "timepoints = pd.read_csv(r'C:\\Users\\hameed\\Desktop\\Datasets\\GTFS Analysis\\ffx_GTFS\\connector_gtfs\\timepoints.txt')\n",
    "trips = pd.read_csv(r'C:\\Users\\hameed\\Desktop\\Datasets\\GTFS Analysis\\ffx_GTFS\\connector_gtfs\\trips.txt')"
   ]
  },
  {
   "cell_type": "markdown",
   "id": "6b0c08b0",
   "metadata": {},
   "source": [
    "For this next analysis, we will import GIS data on bike lanes and perform a nearest neighbor analysis to determine the closest bike lane to each bus stop and the distance to this bike lane, we will then classify with a chloropleth map distances to bus stops from bike lanes based on bins for a range of distances."
   ]
  },
  {
   "cell_type": "markdown",
   "id": "37fa045d",
   "metadata": {},
   "source": [
    "The first step is to import and plot the bus stop and bike lane data to get a sense of it."
   ]
  },
  {
   "cell_type": "code",
   "execution_count": 11,
   "id": "280ac2b6",
   "metadata": {},
   "outputs": [],
   "source": [
    "import geopandas as gpd\n",
    "from sklearn.neighbors import BallTree\n",
    "from shapely.geometry import Point, LineString, Polygon\n",
    "import numpy as np\n",
    "\n",
    "bike_lanes = gpd.read_file('..\\Bicycle_Routes\\Bicycle_Routes.shp')\n",
    "stops_geo = gpd.GeoDataFrame(\n",
    "    stops[['stop_id','stop_lat','stop_lon']], geometry=gpd.points_from_xy(stops.stop_lon, stops.stop_lat))"
   ]
  },
  {
   "cell_type": "markdown",
   "id": "2494f70e",
   "metadata": {},
   "source": [
    "We will analyze the proximity of preferred, somewhat preferred and less preferred bike lanes to bus stops based on their status for a more granular level analysis. The assumption is that these routes have some kind of bike facility seperate from car travel lanes."
   ]
  },
  {
   "cell_type": "code",
   "execution_count": 12,
   "id": "2b2e8a6a",
   "metadata": {},
   "outputs": [],
   "source": [
    "preferred = bike_lanes[(bike_lanes.STATUS=='PREFERRED')|(bike_lanes.STATUS=='SOMEWHAT')|(bike_lanes.STATUS=='LESS_PREFERRED')]"
   ]
  },
  {
   "cell_type": "markdown",
   "id": "63d56518",
   "metadata": {},
   "source": [
    "The first step in our analysis is to add a 10' buffer to all the lines in the bike lanes. Then, we will spatially_index the bus stops to optimize the operation. Using the bounding box co-ordinates of each bike lane, we will obtain a list of possible candidates from the spatial index of stops that fall within the bounding box for a particular bike lane. \n",
    "\n",
    "Then, using these possible candidates, we will perform the actual intersection query and it will be much quicker as it is optimized. We will add the final stops that fall within the buffered bike lane object to our final list. We will then get the unique values from this list as a set, and if a bus stop is in this list, we will add 'True' to a column in our stops_geo table that indicates this stop is wthin 10 feet of a bike lane."
   ]
  },
  {
   "cell_type": "code",
   "execution_count": 26,
   "id": "29386552",
   "metadata": {
    "scrolled": true
   },
   "outputs": [
    {
     "data": {
      "text/html": [
       "<div>\n",
       "<style scoped>\n",
       "    .dataframe tbody tr th:only-of-type {\n",
       "        vertical-align: middle;\n",
       "    }\n",
       "\n",
       "    .dataframe tbody tr th {\n",
       "        vertical-align: top;\n",
       "    }\n",
       "\n",
       "    .dataframe thead th {\n",
       "        text-align: right;\n",
       "    }\n",
       "</style>\n",
       "<table border=\"1\" class=\"dataframe\">\n",
       "  <thead>\n",
       "    <tr style=\"text-align: right;\">\n",
       "      <th></th>\n",
       "      <th>OBJECTID</th>\n",
       "      <th>LABEL</th>\n",
       "      <th>ROUTE</th>\n",
       "      <th>ROAD_SPEED</th>\n",
       "      <th>SEGID</th>\n",
       "      <th>MAINTENANC</th>\n",
       "      <th>STATUS</th>\n",
       "      <th>BLOS</th>\n",
       "      <th>CreationDa</th>\n",
       "      <th>Creator</th>\n",
       "      <th>EditDate</th>\n",
       "      <th>Editor</th>\n",
       "      <th>Shape__Len</th>\n",
       "      <th>geometry</th>\n",
       "      <th>buffer_geom</th>\n",
       "    </tr>\n",
       "  </thead>\n",
       "  <tbody>\n",
       "    <tr>\n",
       "      <th>0</th>\n",
       "      <td>13126</td>\n",
       "      <td>WESTMORELAND ST</td>\n",
       "      <td>693</td>\n",
       "      <td>25.0</td>\n",
       "      <td>329579.0</td>\n",
       "      <td>VDOT</td>\n",
       "      <td>SOMEWHAT</td>\n",
       "      <td>None</td>\n",
       "      <td>2022-02-12</td>\n",
       "      <td>FairfaxCounty</td>\n",
       "      <td>2022-02-12</td>\n",
       "      <td>FairfaxCounty</td>\n",
       "      <td>186.102931</td>\n",
       "      <td>LINESTRING (11861280.295 7013993.825, 11861177...</td>\n",
       "      <td>POLYGON ((11861168.965 7014143.291, 11861168.4...</td>\n",
       "    </tr>\n",
       "    <tr>\n",
       "      <th>1</th>\n",
       "      <td>13127</td>\n",
       "      <td>EAGLE LANDING RD</td>\n",
       "      <td>6580</td>\n",
       "      <td>25.0</td>\n",
       "      <td>336313.0</td>\n",
       "      <td>VDOT</td>\n",
       "      <td>PREFERRED</td>\n",
       "      <td>None</td>\n",
       "      <td>2022-02-12</td>\n",
       "      <td>FairfaxCounty</td>\n",
       "      <td>2022-02-12</td>\n",
       "      <td>FairfaxCounty</td>\n",
       "      <td>317.655144</td>\n",
       "      <td>LINESTRING (11822834.288 6970753.815, 11822944...</td>\n",
       "      <td>POLYGON ((11822934.907 6971055.279, 11822935.2...</td>\n",
       "    </tr>\n",
       "    <tr>\n",
       "      <th>2</th>\n",
       "      <td>13128</td>\n",
       "      <td>CENTERVIEW DR</td>\n",
       "      <td>7680</td>\n",
       "      <td>25.0</td>\n",
       "      <td>5007223.0</td>\n",
       "      <td>VDOT</td>\n",
       "      <td>SOMEWHAT</td>\n",
       "      <td>None</td>\n",
       "      <td>2022-02-12</td>\n",
       "      <td>FairfaxCounty</td>\n",
       "      <td>2022-02-12</td>\n",
       "      <td>FairfaxCounty</td>\n",
       "      <td>279.093940</td>\n",
       "      <td>LINESTRING (11786478.280 7010822.323, 11786515...</td>\n",
       "      <td>POLYGON ((11786506.948 7010904.975, 11786590.2...</td>\n",
       "    </tr>\n",
       "    <tr>\n",
       "      <th>3</th>\n",
       "      <td>13129</td>\n",
       "      <td>CHATELAIN RD</td>\n",
       "      <td>2948</td>\n",
       "      <td>25.0</td>\n",
       "      <td>331825.0</td>\n",
       "      <td>VDOT</td>\n",
       "      <td>PREFERRED</td>\n",
       "      <td>None</td>\n",
       "      <td>2022-02-12</td>\n",
       "      <td>FairfaxCounty</td>\n",
       "      <td>2022-02-12</td>\n",
       "      <td>FairfaxCounty</td>\n",
       "      <td>67.185749</td>\n",
       "      <td>LINESTRING (11855954.294 6989583.819, 11855949...</td>\n",
       "      <td>POLYGON ((11855939.323 6989650.075, 11855939.2...</td>\n",
       "    </tr>\n",
       "    <tr>\n",
       "      <th>4</th>\n",
       "      <td>13130</td>\n",
       "      <td>BEVERLY RD</td>\n",
       "      <td>1898</td>\n",
       "      <td>25.0</td>\n",
       "      <td>328671.0</td>\n",
       "      <td>VDOT</td>\n",
       "      <td>SOMEWHAT</td>\n",
       "      <td>None</td>\n",
       "      <td>2022-02-12</td>\n",
       "      <td>FairfaxCounty</td>\n",
       "      <td>2022-02-12</td>\n",
       "      <td>FairfaxCounty</td>\n",
       "      <td>39.407509</td>\n",
       "      <td>LINESTRING (11858881.294 7028119.328, 11858858...</td>\n",
       "      <td>POLYGON ((11858850.174 7028145.491, 11858849.6...</td>\n",
       "    </tr>\n",
       "  </tbody>\n",
       "</table>\n",
       "</div>"
      ],
      "text/plain": [
       "   OBJECTID             LABEL ROUTE  ROAD_SPEED      SEGID MAINTENANC  \\\n",
       "0     13126   WESTMORELAND ST   693        25.0   329579.0       VDOT   \n",
       "1     13127  EAGLE LANDING RD  6580        25.0   336313.0       VDOT   \n",
       "2     13128     CENTERVIEW DR  7680        25.0  5007223.0       VDOT   \n",
       "3     13129      CHATELAIN RD  2948        25.0   331825.0       VDOT   \n",
       "4     13130        BEVERLY RD  1898        25.0   328671.0       VDOT   \n",
       "\n",
       "      STATUS  BLOS  CreationDa        Creator    EditDate         Editor  \\\n",
       "0   SOMEWHAT  None  2022-02-12  FairfaxCounty  2022-02-12  FairfaxCounty   \n",
       "1  PREFERRED  None  2022-02-12  FairfaxCounty  2022-02-12  FairfaxCounty   \n",
       "2   SOMEWHAT  None  2022-02-12  FairfaxCounty  2022-02-12  FairfaxCounty   \n",
       "3  PREFERRED  None  2022-02-12  FairfaxCounty  2022-02-12  FairfaxCounty   \n",
       "4   SOMEWHAT  None  2022-02-12  FairfaxCounty  2022-02-12  FairfaxCounty   \n",
       "\n",
       "   Shape__Len                                           geometry  \\\n",
       "0  186.102931  LINESTRING (11861280.295 7013993.825, 11861177...   \n",
       "1  317.655144  LINESTRING (11822834.288 6970753.815, 11822944...   \n",
       "2  279.093940  LINESTRING (11786478.280 7010822.323, 11786515...   \n",
       "3   67.185749  LINESTRING (11855954.294 6989583.819, 11855949...   \n",
       "4   39.407509  LINESTRING (11858881.294 7028119.328, 11858858...   \n",
       "\n",
       "                                         buffer_geom  \n",
       "0  POLYGON ((11861168.965 7014143.291, 11861168.4...  \n",
       "1  POLYGON ((11822934.907 6971055.279, 11822935.2...  \n",
       "2  POLYGON ((11786506.948 7010904.975, 11786590.2...  \n",
       "3  POLYGON ((11855939.323 6989650.075, 11855939.2...  \n",
       "4  POLYGON ((11858850.174 7028145.491, 11858849.6...  "
      ]
     },
     "execution_count": 26,
     "metadata": {},
     "output_type": "execute_result"
    }
   ],
   "source": [
    "preferred = preferred.to_crs('EPSG:2283')\n",
    "preferred.head()"
   ]
  },
  {
   "cell_type": "code",
   "execution_count": 19,
   "id": "11629b35",
   "metadata": {},
   "outputs": [],
   "source": [
    "preferred['buffer_geom'] = preferred['geometry'].buffer(10)"
   ]
  },
  {
   "cell_type": "code",
   "execution_count": 29,
   "id": "248c26de",
   "metadata": {},
   "outputs": [],
   "source": [
    "preferred_buffers = gpd.GeoDataFrame(preferred[['OBJECTID','buffer_geom']], geometry='buffer_geom', crs=\"EPSG:2283\")"
   ]
  },
  {
   "cell_type": "markdown",
   "id": "d42db142",
   "metadata": {},
   "source": [
    "We set the stops GeoDataFrame to the same CRS (EPSG:2283 - NOVA)"
   ]
  },
  {
   "cell_type": "code",
   "execution_count": 34,
   "id": "e535f80b",
   "metadata": {},
   "outputs": [],
   "source": [
    "stops_geo = stops_geo.set_crs('EPSG:4326')\n",
    "stops_geo = stops_geo.to_crs('EPSG:2283')"
   ]
  },
  {
   "cell_type": "code",
   "execution_count": 23,
   "id": "6c3f2649",
   "metadata": {},
   "outputs": [],
   "source": [
    "def intersect_with_sindex(source_gdf, intersection_gdf):\n",
    "    source_sindex = source_gdf.sindex\n",
    "    possible_matches_index = []\n",
    "    \n",
    "    for other in intersection_gdf.itertuples():\n",
    "        bounds = other.geometry.bounds\n",
    "        c = list(source_sindex.intersection(bounds))\n",
    "        possible_matches_index += c\n",
    "        \n",
    "    unique_candidate_matches = list(set(possible_matches_index))\n",
    "    possible_matches = source_gdf.iloc[unique_candidate_matches]\n",
    "    \n",
    "    result = possible_matches.loc[possible_matches.intersects(intersecting_gdf.unary_union)]\n",
    "    return result\n",
    "\n",
    "intersect_with_sindex(stops_geo, preferred_buffers)"
   ]
  },
  {
   "cell_type": "markdown",
   "id": "7c11efda",
   "metadata": {},
   "source": [
    "# Analysis 4 - Stop proximity to Shopping Centers"
   ]
  },
  {
   "cell_type": "code",
   "execution_count": null,
   "id": "66d5802c",
   "metadata": {},
   "outputs": [],
   "source": [
    "def get_nearest(src_points, candidates, k_neighbors=1):\n",
    "    \"\"\"Find nearest neighbors for all source point from a set of candidate points\"\"\"\n",
    "    # Create tree from the candidate points\n",
    "    tree = BallTree(candidates, leaf_size=15, metric='haversine')\n",
    "    # get distances, indices for each point\n",
    "    distances, indices = tree.query(src_points, k=k_neighbors)\n",
    "    # transpose for ease\n",
    "    distances = distances.transpose()\n",
    "    indices = indices.transpose()\n",
    "    # get closest distance and its index\n",
    "    closest = indices[0]\n",
    "    closest_dist = distances[0]\n",
    "    \n",
    "    return (closest, closest_dist)\n",
    "\n",
    "def nearest_lanes(left_gdf, right_gdf, return_dist=True):\n",
    "    # get column names for use in apply op.\n",
    "    left_geom_col = left_gdf.geometry.name\n",
    "    right_geom_col = right_gdf.geometry.name\n",
    "    # make right index sequential\n",
    "    right = right_gdf.copy().reset_index(drop=True)\n",
    "    # convert geometries into radians so that nearest neighbor analysis is possible\n",
    "    left_radians = np.array(left_gdf[left_geom_col].apply(lambda geom: (geom.y * np.pi/180, geom.x * np.pi/180)).to_list())\n",
    "    right_radians = np.array(right_gdf[right_geom_col].apply(lambda geom: (geom.y * np.pi/180, geom.x * np.pi/180)).to_list())\n",
    "    # find nearest points\n",
    "    # -----------------------\n",
    "    # closest ==> index in right_gdf for closest point\n",
    "    # dist ==> distance between them\n",
    "    closest, dist = get_nearest(src_points=left_radians, candidates=right_radians)\n",
    "    closest_points = right.loc[closest]\n",
    "    # get closest point rows corresponding to index in right gdf\n",
    "    closest_points = closest_points.reset_index(drop=True)\n",
    "    \n",
    "    # Add distance \n",
    "    if return_dist:\n",
    "        # convert to meters from radians\n",
    "        earth_radius = 6371000 # meters\n",
    "        closest_points['distance'] = dist * earth_radius\n",
    "    \n",
    "    return closest_points\n",
    "    "
   ]
  }
 ],
 "metadata": {
  "kernelspec": {
   "display_name": "mygeo_env",
   "language": "python",
   "name": "mygeo_env"
  },
  "language_info": {
   "codemirror_mode": {
    "name": "ipython",
    "version": 3
   },
   "file_extension": ".py",
   "mimetype": "text/x-python",
   "name": "python",
   "nbconvert_exporter": "python",
   "pygments_lexer": "ipython3",
   "version": "3.10.2"
  }
 },
 "nbformat": 4,
 "nbformat_minor": 5
}
